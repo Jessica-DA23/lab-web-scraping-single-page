{
 "cells": [
  {
   "cell_type": "code",
   "execution_count": 1,
   "id": "7cff74c3",
   "metadata": {},
   "outputs": [],
   "source": [
    "import requests\n",
    "import pandas as pd\n",
    "import numpy as np\n",
    "import regex as re\n",
    "import spotipy\n",
    "from spotipy.oauth2 import SpotifyClientCredentials\n",
    "from pandas import json_normalize\n",
    "# K-means\n",
    "import numpy as np\n",
    "import matplotlib.pyplot as plt\n",
    "import pickle\n",
    "\n",
    "from sklearn import cluster, datasets\n",
    "from sklearn.preprocessing import StandardScaler\n",
    "from sklearn.cluster import KMeans"
   ]
  },
  {
   "cell_type": "code",
   "execution_count": 2,
   "id": "8e86f8ab",
   "metadata": {},
   "outputs": [],
   "source": [
    "top_songs = pd.read_csv('top_songs_csv')"
   ]
  },
  {
   "cell_type": "code",
   "execution_count": 3,
   "id": "547c49a8",
   "metadata": {},
   "outputs": [],
   "source": [
    "list_with_all3 = pd.read_csv('list_with_all3_csv')"
   ]
  },
  {
   "cell_type": "code",
   "execution_count": 4,
   "id": "d3e56df4",
   "metadata": {},
   "outputs": [],
   "source": [
    "secrets_file = open(\"secrets.txt\",\"r\")"
   ]
  },
  {
   "cell_type": "code",
   "execution_count": 5,
   "id": "1b0ba60d",
   "metadata": {},
   "outputs": [],
   "source": [
    "def song_recommender(title, artist):\n",
    "    #Convert the input to lower case\n",
    "    title_input = remove_special_characters(title.lower())\n",
    "    artist_input = remove_special_characters(artist.lower())\n",
    "    \n",
    "    # Check if the input combination is present in the dataframe\n",
    "    result = top_songs_lower[(top_songs_lower['song'].values == title_input) & (top_songs_lower['artist'].values == artist_input)]\n",
    "    #print(result)\n",
    "\n",
    "    if not result.empty:\n",
    "        #Get the indices\n",
    "        indices_to_remove = result.index\n",
    "        temp_top_songs = top_songs.drop(indices_to_remove)\n",
    "\n",
    "        rec_song = temp_top_songs.sample().squeeze()\n",
    "        print(f\"You might also like: {rec_song['song']} by {rec_song['artist']}\")\n",
    "    else:\n",
    "        #Opening the spotify connection\n",
    "        sp = open_spotify_connection()\n",
    "        \n",
    "        #querying spotify\n",
    "        results = sp.search(q=\"artist:\" + artist_input + \" track:\" + title_input, type=\"track\", limit = 1)\n",
    "        \n",
    "        #First check if the query returns results (i.e total>0)\n",
    "        if results['tracks']['total']!=0 :\n",
    "            track_id = results['tracks']['items'][0]['id'] #Id of the first track\n",
    "            #print(track_id)\n",
    "\n",
    "            #Getting the audio features using the id\n",
    "            new_data = sp.audio_features(track_id)\n",
    "            #print(type(new_data[0]))\n",
    "            data_df = json_normalize(new_data[0]) #normalizing the data to a df\n",
    "            num_data_df = data_df.select_dtypes(include='number') #getting the numerical data only to fit\n",
    "            #print(num_data_df)\n",
    "\n",
    "            #Using pickle to get the existing scaler and kmean\n",
    "            kmeans = pickle.load(open('kmean.pkl', 'rb'))\n",
    "            scaler = pickle.load(open('scaler.pkl','rb'))\n",
    "            X_prep = scaler.transform(num_data_df)\n",
    "            predicted_cluster = kmeans.predict(X_prep)\n",
    "            cluster = predicted_cluster[0]\n",
    "            #print(cluster)\n",
    "            cluster_songs = list_with_all3[list_with_all3['cluster'] == cluster]\n",
    "            rec_song = cluster_songs[cluster_songs['cluster']== cluster].sample().squeeze()\n",
    "            #print(rec_song)\n",
    "            print(f\"You might also like: {rec_song['song']} by {rec_song['artist']}\")\n",
    "        else:\n",
    "            print(\"The song is not in Spotify. Please try again\")\n",
    "\n",
    "def remove_special_characters(text):\n",
    "    # Use a regular expression to replace non-alphanumeric characters with an empty string\n",
    "    return ''.join(e for e in text if e.isalnum() or e.isspace())\n",
    "\n",
    "def open_spotify_connection():\n",
    "    #Opens a new spotify connection\n",
    "    secrets_file = open(\"secrets.txt\",\"r\")\n",
    "    string = secrets_file.read()\n",
    "\n",
    "    secrets_dict={}\n",
    "    for line in string.split('\\n'):\n",
    "        if len(line) > 0:\n",
    "            #print(line.split(':'))\n",
    "            secrets_dict[line.split(':')[0]]=line.split(':')[1].strip()\n",
    "    sp = spotipy.Spotify(auth_manager=SpotifyClientCredentials(client_id=secrets_dict['clientid'],\n",
    "                                                           client_secret=secrets_dict['clientsecret']))\n",
    "    return sp;"
   ]
  },
  {
   "cell_type": "code",
   "execution_count": 6,
   "id": "bb61f504",
   "metadata": {},
   "outputs": [],
   "source": [
    "# Getting all lower str\n",
    "top_songs = pd.read_csv('top_songs_csv')\n",
    "top_songs_lower = top_songs.apply(lambda x: x.astype(str).str.lower())\n",
    "top_songs_lower['song'] = top_songs_lower['song'].apply(remove_special_characters)\n",
    "#top_songs_lower"
   ]
  },
  {
   "cell_type": "code",
   "execution_count": 7,
   "id": "6a5e39ca",
   "metadata": {},
   "outputs": [
    {
     "name": "stdout",
     "output_type": "stream",
     "text": [
      "Please Enter the Song Title: why can't i be you\n",
      "Please Enter the Artist Name: the cure\n",
      "You might also like: Taped Up Heart (feat. Clara Mae) by Clara Mae\n"
     ]
    }
   ],
   "source": [
    "#Get user input\n",
    "from pandas import json_normalize\n",
    "title_input = input('Please Enter the Song Title: ')\n",
    "artist_input = input('Please Enter the Artist Name: ')\n",
    "song_recommender(title_input, artist_input)"
   ]
  },
  {
   "cell_type": "code",
   "execution_count": null,
   "id": "dc06c8e8",
   "metadata": {},
   "outputs": [],
   "source": []
  }
 ],
 "metadata": {
  "kernelspec": {
   "display_name": "Python 3 (ipykernel)",
   "language": "python",
   "name": "python3"
  },
  "language_info": {
   "codemirror_mode": {
    "name": "ipython",
    "version": 3
   },
   "file_extension": ".py",
   "mimetype": "text/x-python",
   "name": "python",
   "nbconvert_exporter": "python",
   "pygments_lexer": "ipython3",
   "version": "3.11.4"
  }
 },
 "nbformat": 4,
 "nbformat_minor": 5
}
